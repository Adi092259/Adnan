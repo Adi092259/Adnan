{
 "cells": [
  {
   "cell_type": "markdown",
   "id": "d3b1242a",
   "metadata": {},
   "source": [
    "### Assignment-05 (DICTIONARY)\n",
    "- Change the notebook name with your name and Roll Number.\n",
    "- Try this as your own, no chatgpt (it's for your learning)\n",
    "- after completing the assignment, submit this book on google class room."
   ]
  },
  {
   "cell_type": "markdown",
   "id": "3079cae1",
   "metadata": {},
   "source": [
    "    Create an empty dictionary and print it.\n"
   ]
  },
  {
   "cell_type": "code",
   "execution_count": 9,
   "id": "1e0b1c0d",
   "metadata": {},
   "outputs": [
    {
     "name": "stdout",
     "output_type": "stream",
     "text": [
      "the dictionary is:  {} \n",
      " <class 'dict'>\n"
     ]
    }
   ],
   "source": [
    "mydict = {}\n",
    "print(\"the dictionary is: \", mydict, '\\n', type(mydict))"
   ]
  },
  {
   "cell_type": "markdown",
   "id": "c02f03e9",
   "metadata": {},
   "source": [
    "    Create a dictionary representing a person with keys such as 'name', 'age', and 'city'.\n"
   ]
  },
  {
   "cell_type": "code",
   "execution_count": 12,
   "id": "1c55f8a0",
   "metadata": {},
   "outputs": [
    {
     "name": "stdout",
     "output_type": "stream",
     "text": [
      "{'name': 'Adnan', 'age': 25, 'city': 'Kasur'} \n",
      " <class 'dict'>\n"
     ]
    }
   ],
   "source": [
    "mydict2 = {\n",
    "    'name' : 'Adnan',\n",
    "    'age'  : 25,\n",
    "    'city' : 'Kasur'\n",
    "}\n",
    "print(mydict2, '\\n', type(mydict2))"
   ]
  },
  {
   "cell_type": "markdown",
   "id": "3de2a866",
   "metadata": {},
   "source": [
    "    Create a dictionary that includes keys with different data types (strings, integers)."
   ]
  },
  {
   "cell_type": "code",
   "execution_count": 22,
   "id": "89c0b2ee",
   "metadata": {},
   "outputs": [
    {
     "name": "stdout",
     "output_type": "stream",
     "text": [
      "{'color': 'Red', 'height': '5ft', 'age': 30}\n"
     ]
    }
   ],
   "source": [
    "mydict3 = {\n",
    "    'color' : 'Red',\n",
    "    'height' : '5ft',\n",
    "    'age'  : 30\n",
    "}\n",
    "print(mydict3)"
   ]
  },
  {
   "cell_type": "markdown",
   "id": "41ce050c",
   "metadata": {},
   "source": [
    "Access and print the value associated with a specific key."
   ]
  },
  {
   "cell_type": "code",
   "execution_count": 26,
   "id": "ec5dbc94",
   "metadata": {},
   "outputs": [
    {
     "name": "stdout",
     "output_type": "stream",
     "text": [
      "{'color': 'Red', 'height': '5ft', 'age': 30}\n",
      "\n",
      "\n",
      " 5ft\n"
     ]
    }
   ],
   "source": [
    "print(mydict3)\n",
    "print('\\n\\n', mydict3['height'])"
   ]
  },
  {
   "cell_type": "markdown",
   "id": "b6b0c37d",
   "metadata": {},
   "source": [
    "    Use the get() method to access a value, providing a default value if the key is not present.\n"
   ]
  },
  {
   "cell_type": "code",
   "execution_count": 35,
   "id": "7aa9e88c",
   "metadata": {},
   "outputs": [
    {
     "name": "stdout",
     "output_type": "stream",
     "text": [
      "{'color': 'Red', 'height': '5ft', 'age': 30}\n",
      "\n",
      "\n",
      " 30\n",
      "\n",
      "\n",
      " None\n"
     ]
    }
   ],
   "source": [
    "print(mydict3)\n",
    "print('\\n\\n', mydict3.get('age'))\n",
    "print('\\n\\n', mydict3.get(30)) #returns \"None\" in case of incorrect key"
   ]
  },
  {
   "cell_type": "markdown",
   "id": "fd070da0",
   "metadata": {},
   "source": [
    "    Iterate through the keys of a dictionary and print each key."
   ]
  },
  {
   "cell_type": "code",
   "execution_count": 37,
   "id": "20a421cc",
   "metadata": {},
   "outputs": [
    {
     "name": "stdout",
     "output_type": "stream",
     "text": [
      "name\n",
      "city\n",
      "roll no.\n"
     ]
    }
   ],
   "source": [
    "mydict4 = {\n",
    "    'name' : 'Adnan',\n",
    "    'city' : 'Kasur',\n",
    "    'roll no.' : 2\n",
    "}\n",
    "for i in mydict4:\n",
    "    print(i)"
   ]
  },
  {
   "cell_type": "markdown",
   "id": "b743bd62",
   "metadata": {},
   "source": [
    "Add a new key-value pair to a dictionary."
   ]
  },
  {
   "cell_type": "code",
   "execution_count": 39,
   "id": "db404144",
   "metadata": {},
   "outputs": [
    {
     "name": "stdout",
     "output_type": "stream",
     "text": [
      "original dictionary: {'name': 'Adnan', 'city': 'Lahore', 'roll no.': 2}\n",
      "\n",
      "\n",
      " {'name': 'Adnan', 'city': 'Lahore', 'roll no.': 2, 'marks': 90}\n"
     ]
    }
   ],
   "source": [
    "print('original dictionary:', mydict4)\n",
    "mydict4['marks'] = 90\n",
    "print('\\n\\n', mydict4)"
   ]
  },
  {
   "cell_type": "markdown",
   "id": "ef13537b",
   "metadata": {},
   "source": [
    "Modify the value associated with an existing key."
   ]
  },
  {
   "cell_type": "code",
   "execution_count": 40,
   "id": "5e655290",
   "metadata": {},
   "outputs": [
    {
     "name": "stdout",
     "output_type": "stream",
     "text": [
      "original dictionary: {'name': 'Adnan', 'city': 'Lahore', 'roll no.': 2, 'marks': 90}\n",
      "\n",
      "\n",
      " {'name': 'Adnan', 'city': 'Kasur', 'roll no.': 2, 'marks': 90}\n"
     ]
    }
   ],
   "source": [
    "print('original dictionary:', mydict4)\n",
    "mydict4['city'] = 'Kasur'\n",
    "print('\\n\\n', mydict4)"
   ]
  },
  {
   "cell_type": "markdown",
   "id": "2ff9fb92",
   "metadata": {},
   "source": [
    "Remove a specific key-value pair from a dictionary using the pop() method.\n",
    "\n"
   ]
  },
  {
   "cell_type": "code",
   "execution_count": 44,
   "id": "1bdb4169",
   "metadata": {},
   "outputs": [
    {
     "name": "stdout",
     "output_type": "stream",
     "text": [
      "original dictionary: {'name': 'Adnan', 'city': 'Kasur', 'roll no.': 2}\n",
      "\n",
      "\n",
      " Kasur\n",
      "\n",
      "\n",
      "new dictionary: {'name': 'Adnan', 'roll no.': 2}\n"
     ]
    }
   ],
   "source": [
    "print('original dictionary:', mydict4)\n",
    "print('\\n\\n', mydict4.pop('city'))\n",
    "print('\\n\\nnew dictionary:', mydict4)"
   ]
  },
  {
   "cell_type": "markdown",
   "id": "edc2abf7",
   "metadata": {},
   "source": [
    "    Remove a specific key-value pair from a dictionary using the del statement."
   ]
  },
  {
   "cell_type": "code",
   "execution_count": 48,
   "id": "538eca73",
   "metadata": {},
   "outputs": [
    {
     "name": "stdout",
     "output_type": "stream",
     "text": [
      "original dictionary: {'color': 'Red', 'height': '5ft', 'age': 30}\n",
      "\n",
      "\n",
      "new dictionary: {'color': 'Red', 'age': 30}\n"
     ]
    }
   ],
   "source": [
    "print('original dictionary:', mydict3)\n",
    "del mydict3['height']\n",
    "print('\\n\\nnew dictionary:', mydict3)"
   ]
  },
  {
   "cell_type": "markdown",
   "id": "0f2d7e6a",
   "metadata": {},
   "source": [
    "Convert a dictionary to a list of keys."
   ]
  },
  {
   "cell_type": "code",
   "execution_count": 60,
   "id": "5705250c",
   "metadata": {},
   "outputs": [
    {
     "name": "stdout",
     "output_type": "stream",
     "text": [
      "original dictionary: {'color': 'Red', 'age': 30} \n",
      " <class 'dict'>\n",
      "\n",
      " ['color', 'age'] \n",
      " <class 'list'>\n"
     ]
    }
   ],
   "source": [
    "print('original dictionary:', mydict3, '\\n', type(mydict3))\n",
    "mylist = list(mydict3.keys())\n",
    "print('\\n', mylist, '\\n', type(mylist))"
   ]
  },
  {
   "cell_type": "markdown",
   "id": "1191e090",
   "metadata": {},
   "source": [
    "    Convert a dictionary to a list of values.\n"
   ]
  },
  {
   "cell_type": "code",
   "execution_count": 61,
   "id": "e89b908a",
   "metadata": {},
   "outputs": [
    {
     "name": "stdout",
     "output_type": "stream",
     "text": [
      "original dictionary: {'color': 'Red', 'age': 30} \n",
      " <class 'dict'>\n",
      "\n",
      " ['Red', 30] \n",
      " <class 'list'>\n"
     ]
    }
   ],
   "source": [
    "print('original dictionary:', mydict3, '\\n', type(mydict3))\n",
    "mylist = list(mydict3.values())\n",
    "print('\\n', mylist, '\\n', type(mylist))"
   ]
  },
  {
   "cell_type": "markdown",
   "id": "f72c7f5e",
   "metadata": {},
   "source": [
    "    Convert a list of tuples to a dictionary."
   ]
  },
  {
   "cell_type": "code",
   "execution_count": 64,
   "id": "2f531bc4",
   "metadata": {},
   "outputs": [
    {
     "name": "stdout",
     "output_type": "stream",
     "text": [
      "List of tuples: [('a', 1), ('b', 2), ('c', 3)] \n",
      " <class 'list'>\n",
      "\n",
      "\n",
      "dictionary from list of tuples: {'a': 1, 'b': 2, 'c': 3} \n",
      " <class 'dict'>\n"
     ]
    }
   ],
   "source": [
    "mylist2 = [('a', 1), ('b', 2), ('c', 3)]\n",
    "mydict4 = dict(mylist2)\n",
    "print(\"List of tuples:\", mylist2, '\\n', type(mylist2))\n",
    "print(\"\\n\\ndictionary from list of tuples:\", mydict4, '\\n', type(mydict4))"
   ]
  },
  {
   "cell_type": "markdown",
   "id": "8ce9bedf",
   "metadata": {},
   "source": [
    "Use the keys() method to get a list of keys in a dictionary.\n"
   ]
  },
  {
   "cell_type": "code",
   "execution_count": 65,
   "id": "7d975a45",
   "metadata": {},
   "outputs": [
    {
     "name": "stdout",
     "output_type": "stream",
     "text": [
      "original dictionary: {'color': 'Red', 'age': 30} \n",
      " <class 'dict'>\n",
      "\n",
      " ['color', 'age'] \n",
      " <class 'list'>\n"
     ]
    }
   ],
   "source": [
    "print('original dictionary:', mydict3, '\\n', type(mydict3))\n",
    "mylist = list(mydict3.keys())\n",
    "print('\\n', mylist, '\\n', type(mylist))"
   ]
  },
  {
   "cell_type": "markdown",
   "id": "8adb7c9d",
   "metadata": {},
   "source": [
    "\n",
    "    Use the values() method to get a list of values in a dictionary.\n"
   ]
  },
  {
   "cell_type": "code",
   "execution_count": 66,
   "id": "fb8a455c",
   "metadata": {},
   "outputs": [
    {
     "name": "stdout",
     "output_type": "stream",
     "text": [
      "original dictionary: {'color': 'Red', 'age': 30} \n",
      " <class 'dict'>\n",
      "\n",
      " ['Red', 30] \n",
      " <class 'list'>\n"
     ]
    }
   ],
   "source": [
    "print('original dictionary:', mydict3, '\\n', type(mydict3))\n",
    "mylist = list(mydict3.values())\n",
    "print('\\n', mylist, '\\n', type(mylist))"
   ]
  },
  {
   "cell_type": "markdown",
   "id": "b4b044e4",
   "metadata": {},
   "source": [
    "    Use the items() method to get a list of key-value pairs in a dictionary."
   ]
  },
  {
   "cell_type": "code",
   "execution_count": 69,
   "id": "ca390b74",
   "metadata": {},
   "outputs": [
    {
     "name": "stdout",
     "output_type": "stream",
     "text": [
      "original dictionary: {'color': 'Red', 'age': 30} \n",
      " <class 'dict'>\n",
      "\n",
      " [('color', 'Red'), ('age', 30)] \n",
      " <class 'list'>\n"
     ]
    }
   ],
   "source": [
    "print('original dictionary:', mydict3, '\\n', type(mydict3))\n",
    "mylist = list(mydict3.items())\n",
    "print('\\n', mylist, '\\n', type(mylist))"
   ]
  },
  {
   "cell_type": "markdown",
   "id": "bd4eb41b",
   "metadata": {},
   "source": [
    "Check if a key is present in a dictionary using the in operator.\n",
    "\n"
   ]
  },
  {
   "cell_type": "code",
   "execution_count": 70,
   "id": "39c2a92f",
   "metadata": {},
   "outputs": [
    {
     "name": "stdout",
     "output_type": "stream",
     "text": [
      "True\n"
     ]
    }
   ],
   "source": [
    "mydict4 = {\n",
    "    'name' : 'Adnan',\n",
    "    'class' : 'Mphil',\n",
    "    'roll no.' : 2\n",
    "}\n",
    "print('class' in mydict4)"
   ]
  },
  {
   "cell_type": "markdown",
   "id": "ba80007f",
   "metadata": {},
   "source": [
    "    Use the setdefault() method to add a key with a default value if it doesn't exist.\n"
   ]
  },
  {
   "cell_type": "code",
   "execution_count": 72,
   "id": "cc19bd44",
   "metadata": {},
   "outputs": [
    {
     "name": "stdout",
     "output_type": "stream",
     "text": [
      "Dictionary after using setdefault(): {'a': 1, 'b': 2, 'c': 3, 'd': 0}\n",
      "Value for 'd': 0\n",
      "\n",
      "Dictionary after using setdefault() on 'c': {'a': 1, 'b': 2, 'c': 3, 'd': 0}\n",
      "Value for 'c': 3\n"
     ]
    }
   ],
   "source": [
    "mydict5 = {'a': 1, 'b': 2, 'c': 3}\n",
    "\n",
    "default_value = mydict5.setdefault('d', 0)\n",
    "print(\"Dictionary after using setdefault():\", mydict5)\n",
    "print(\"Value for 'd':\", default_value)\n",
    "\n",
    "existing_value = mydict5.setdefault('c', 10)\n",
    "print(\"\\nDictionary after using setdefault() on 'c':\", mydict5)\n",
    "print(\"Value for 'c':\", existing_value)"
   ]
  },
  {
   "cell_type": "markdown",
   "id": "5dd9b173",
   "metadata": {},
   "source": [
    "    Merge two dictionaries using the update() method.\n"
   ]
  },
  {
   "cell_type": "code",
   "execution_count": 78,
   "id": "05e95981",
   "metadata": {},
   "outputs": [
    {
     "name": "stdout",
     "output_type": "stream",
     "text": [
      "Merged dictionary: {'a': 1, 'b': 3, 'c': 4}\n"
     ]
    }
   ],
   "source": [
    "# Two dictionaries to merge\n",
    "mydict6 = {'a': 1, 'b': 2}\n",
    "mydict7 = {'b': 3, 'c': 4}\n",
    "\n",
    "mydict6.update(mydict7)\n",
    "\n",
    "print(\"Merged dictionary:\", mydict6)"
   ]
  },
  {
   "cell_type": "markdown",
   "id": "1415c188",
   "metadata": {},
   "source": [
    "    Use the clear() method to remove all elements from a dictionary."
   ]
  },
  {
   "cell_type": "code",
   "execution_count": 82,
   "id": "bdf48d4c",
   "metadata": {},
   "outputs": [
    {
     "name": "stdout",
     "output_type": "stream",
     "text": [
      "{'b': 3, 'c': 4}\n",
      "{}\n"
     ]
    }
   ],
   "source": [
    "print(mydict7)\n",
    "mydict7.clear()\n",
    "print(mydict7)"
   ]
  }
 ],
 "metadata": {
  "kernelspec": {
   "display_name": "Python 3 (ipykernel)",
   "language": "python",
   "name": "python3"
  },
  "language_info": {
   "codemirror_mode": {
    "name": "ipython",
    "version": 3
   },
   "file_extension": ".py",
   "mimetype": "text/x-python",
   "name": "python",
   "nbconvert_exporter": "python",
   "pygments_lexer": "ipython3",
   "version": "3.11.5"
  }
 },
 "nbformat": 4,
 "nbformat_minor": 5
}
