{
 "cells": [
  {
   "cell_type": "code",
   "execution_count": 1,
   "id": "298d5572",
   "metadata": {},
   "outputs": [
    {
     "data": {
      "text/plain": [
       "'C:\\\\Users\\\\Rizwan Sharif'"
      ]
     },
     "execution_count": 1,
     "metadata": {},
     "output_type": "execute_result"
    }
   ],
   "source": [
    "%pwd"
   ]
  },
  {
   "cell_type": "markdown",
   "id": "e09c6716",
   "metadata": {},
   "source": [
    "Adnan Latif"
   ]
  },
  {
   "cell_type": "markdown",
   "id": "9ee9b34c",
   "metadata": {},
   "source": [
    "HI"
   ]
  },
  {
   "cell_type": "code",
   "execution_count": null,
   "id": "535ccf8c",
   "metadata": {},
   "outputs": [],
   "source": []
  }
 ],
 "metadata": {
  "kernelspec": {
   "display_name": "Python 3 (ipykernel)",
   "language": "python",
   "name": "python3"
  },
  "language_info": {
   "codemirror_mode": {
    "name": "ipython",
    "version": 3
   },
   "file_extension": ".py",
   "mimetype": "text/x-python",
   "name": "python",
   "nbconvert_exporter": "python",
   "pygments_lexer": "ipython3",
   "version": "3.11.5"
  }
 },
 "nbformat": 4,
 "nbformat_minor": 5
}
