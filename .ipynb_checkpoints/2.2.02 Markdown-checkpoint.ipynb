{
 "cells": [
  {
   "cell_type": "markdown",
   "id": "aed5e8ac",
   "metadata": {},
   "source": [
    "# H1\n",
    "## H2\n",
    "### H3\n",
    "#### H4\n",
    "##### H5\n",
    "###### H6"
   ]
  },
  {
   "cell_type": "markdown",
   "id": "09db6c39",
   "metadata": {},
   "source": [
    "---"
   ]
  },
  {
   "cell_type": "markdown",
   "id": "f344dc56",
   "metadata": {},
   "source": [
    "**Bold Text**"
   ]
  },
  {
   "cell_type": "markdown",
   "id": "0e2c81f1",
   "metadata": {},
   "source": [
    "***"
   ]
  },
  {
   "cell_type": "markdown",
   "id": "9d13e421",
   "metadata": {},
   "source": [
    ">Muhammad Adnan\n",
    ">Muhammad Latif\n",
    ">\n",
    ">**Pak**\n",
    ">\n",
    ">Pakistan"
   ]
  },
  {
   "cell_type": "markdown",
   "id": "b283b8e1",
   "metadata": {},
   "source": [
    "1. MY\n",
    "2. Name\n",
    "3. Is\n",
    "4. Muhammad  \n",
    "1.Adnan"
   ]
  },
  {
   "cell_type": "markdown",
   "id": "96530bcd",
   "metadata": {},
   "source": [
    "- My\n",
    "- Name\n",
    "- Is\n",
    "- Muhammad\n",
    "  - Adnan"
   ]
  },
  {
   "cell_type": "markdown",
   "id": "3f591400",
   "metadata": {},
   "source": [
    "1. I\n",
    "2. am\n",
    "3. a\n",
    "4. Student\n",
    "  - RS & GIS"
   ]
  },
  {
   "cell_type": "markdown",
   "id": "9df53ea6",
   "metadata": {},
   "source": [
    "---"
   ]
  },
  {
   "cell_type": "markdown",
   "id": "d9535e17",
   "metadata": {},
   "source": [
    "This is an [example \n",
    "link](https://www.makeuseof.com)"
   ]
  },
  {
   "cell_type": "markdown",
   "id": "5f903a8c",
   "metadata": {},
   "source": [
    "___\n",
    "\n",
    "![Chotta Baccha](https://www.bing.com/images/search?view=detailV2&ccid=EE0B7rxR&id=6BEC9A6D49173AAF3FA08E776B840B77150F1F13&thid=OIP.EE0B7rxRr6pGnCFdqz3elAHaHa&mediaurl=https%3a%2f%2fth.bing.com%2fth%2fid%2fR.104d01eebc51afaa469c215dab3dde94%3frik%3dEx8PFXcLhGt3jg%26riu%3dhttp%253a%252f%252fwww.babycouture.in%252fblog%252fwp-content%252fuploads%252f2016%252f06%252fHappy-Children-Picture-7.jpg%26ehk%3dlSpIe0GvBqXU5xNiHaIQgnjjGSSPZzWEpwG70VJNbOo%253d%26risl%3d%26pid%3dImgRaw%26r%3d0&exph=1200&expw=1200&q=kids+pics&simid=608006879646335070&FORM=IRPRST&ck=9730A942B392A26ED7B0BF0A3D589F69&selectedIndex=7)"
   ]
  },
  {
   "cell_type": "markdown",
   "id": "7be7bf0b",
   "metadata": {},
   "source": [
    "*Adnan*  \n",
    "Adnan"
   ]
  },
  {
   "cell_type": "markdown",
   "id": "ba59e252",
   "metadata": {},
   "source": [
    "`This is inline code`"
   ]
  },
  {
   "cell_type": "markdown",
   "id": "b6bdf2a3",
   "metadata": {},
   "source": [
    "```\n",
    "This is a block of code\n",
    "It supports multiple lines\n",
    "```"
   ]
  },
  {
   "cell_type": "markdown",
   "id": "c22032b4",
   "metadata": {},
   "source": [
    "~~This text is crossed out~~"
   ]
  },
  {
   "cell_type": "markdown",
   "id": "e4ee62e7",
   "metadata": {},
   "source": [
    "This is some text\\\n",
    "This text is a new line, not a new \n",
    "paragraph\n"
   ]
  },
  {
   "cell_type": "markdown",
   "id": "26ae7eaa",
   "metadata": {},
   "source": [
    "| First Header | Second Header |\n",
    "| ------------ | ------------- |\n",
    "| Content cell 1 | Content cell 2 |\n",
    "| Content column 1 | Content column 2 |"
   ]
  },
  {
   "cell_type": "markdown",
   "id": "b2e5d4f7",
   "metadata": {},
   "source": [
    "| Adnan | Latif |\n",
    "| ----- | ----- |\n",
    "| A | d |\n",
    "| a | D |"
   ]
  },
  {
   "cell_type": "markdown",
   "id": "076becc1",
   "metadata": {},
   "source": [
    "- [x] Completed task item\n",
    "- [ ] Unfinished task item\n",
    "- [ ] \\(Optional) Mark \n",
    " parentheses to be ignored"
   ]
  },
  {
   "cell_type": "markdown",
   "id": "07d2875f",
   "metadata": {},
   "source": [
    "@Adnan\n",
    "\n",
    "---"
   ]
  },
  {
   "cell_type": "markdown",
   "id": "534f8777",
   "metadata": {},
   "source": [
    "I really :heart: using Markdown. :rocket:"
   ]
  },
  {
   "cell_type": "code",
   "execution_count": null,
   "id": "b5ea1871",
   "metadata": {},
   "outputs": [],
   "source": []
  }
 ],
 "metadata": {
  "kernelspec": {
   "display_name": "Python 3 (ipykernel)",
   "language": "python",
   "name": "python3"
  },
  "language_info": {
   "codemirror_mode": {
    "name": "ipython",
    "version": 3
   },
   "file_extension": ".py",
   "mimetype": "text/x-python",
   "name": "python",
   "nbconvert_exporter": "python",
   "pygments_lexer": "ipython3",
   "version": "3.11.5"
  }
 },
 "nbformat": 4,
 "nbformat_minor": 5
}
