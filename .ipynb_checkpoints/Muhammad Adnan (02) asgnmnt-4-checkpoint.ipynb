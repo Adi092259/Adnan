{
 "cells": [
  {
   "cell_type": "markdown",
   "id": "48147901",
   "metadata": {},
   "source": [
    "### Assignment-04 (List)\n",
    "- Change the notebook name with your name and Roll Number.\n",
    "- Try this as your own, no chatgpt (it's for your learning)\n",
    "- after completing the assignment, submit this book on google class room."
   ]
  },
  {
   "cell_type": "markdown",
   "id": "4a0551ca",
   "metadata": {},
   "source": [
    "Create an empty list and print it.\n"
   ]
  },
  {
   "cell_type": "code",
   "execution_count": 8,
   "id": "d2923b71",
   "metadata": {},
   "outputs": [
    {
     "data": {
      "text/plain": [
       "[]"
      ]
     },
     "execution_count": 8,
     "metadata": {},
     "output_type": "execute_result"
    }
   ],
   "source": [
    "# var1 = list()\n",
    "var1 = []\n",
    "var1"
   ]
  },
  {
   "cell_type": "markdown",
   "id": "fa6b638e",
   "metadata": {},
   "source": [
    "Create a list of your favorite colors and print it.\n"
   ]
  },
  {
   "cell_type": "code",
   "execution_count": 10,
   "id": "c549875c",
   "metadata": {},
   "outputs": [
    {
     "data": {
      "text/plain": [
       "(['Green', 'Black', 'White'], list)"
      ]
     },
     "execution_count": 10,
     "metadata": {},
     "output_type": "execute_result"
    }
   ],
   "source": [
    "var2 = ['Green', 'Black', 'White']\n",
    "var2, type(var2)"
   ]
  },
  {
   "cell_type": "markdown",
   "id": "4a1371d4",
   "metadata": {},
   "source": [
    "Create a list that includes a mix of data types (integers, strings, floats).\n"
   ]
  },
  {
   "cell_type": "code",
   "execution_count": 11,
   "id": "dfc878e2",
   "metadata": {},
   "outputs": [
    {
     "data": {
      "text/plain": [
       "([1, 1.2, 'Adnan', 'Latif', 10.0], list)"
      ]
     },
     "execution_count": 11,
     "metadata": {},
     "output_type": "execute_result"
    }
   ],
   "source": [
    "var3 = [1, 1.2, 'Adnan', 'Latif', 10.0]\n",
    "var3, type(var3)"
   ]
  },
  {
   "cell_type": "markdown",
   "id": "2916cde7",
   "metadata": {},
   "source": [
    "Access the first element of a list.\n"
   ]
  },
  {
   "cell_type": "code",
   "execution_count": 18,
   "id": "a0a7b3d2",
   "metadata": {},
   "outputs": [
    {
     "name": "stdout",
     "output_type": "stream",
     "text": [
      "Original list:  [1, 1.2, 'Adnan', 'Latif', 10.0]\n",
      "\n",
      "\n",
      "First element of var3: 1\n"
     ]
    }
   ],
   "source": [
    "print('Original list: ', var3)\n",
    "print('\\n\\nFirst element of var3:', var3[0])"
   ]
  },
  {
   "cell_type": "code",
   "execution_count": 21,
   "id": "820167a3",
   "metadata": {},
   "outputs": [
    {
     "data": {
      "text/plain": [
       "10"
      ]
     },
     "execution_count": 21,
     "metadata": {},
     "output_type": "execute_result"
    }
   ],
   "source": [
    "var4 = [10, 20, 'Apple', 10.22]\n",
    "var5 = var4[0]\n",
    "var5"
   ]
  },
  {
   "cell_type": "markdown",
   "id": "13b39ea7",
   "metadata": {},
   "source": [
    "Access the last element of a list."
   ]
  },
  {
   "cell_type": "code",
   "execution_count": 33,
   "id": "4f8cf5da",
   "metadata": {},
   "outputs": [
    {
     "name": "stdout",
     "output_type": "stream",
     "text": [
      "\n",
      "original list:  [10, 20, 'Apple', 10.22]\n",
      "\n",
      "\n",
      "last element of a list: 10.22\n"
     ]
    }
   ],
   "source": [
    "print('\\noriginal list: ', var4)\n",
    "var6 = var4[-1]\n",
    "print('\\n\\nlast element of a list:', var6)"
   ]
  },
  {
   "cell_type": "markdown",
   "id": "ef7e0f8d",
   "metadata": {},
   "source": [
    " Access the second and third elements of a list.\n"
   ]
  },
  {
   "cell_type": "code",
   "execution_count": 36,
   "id": "e215ceed",
   "metadata": {},
   "outputs": [
    {
     "name": "stdout",
     "output_type": "stream",
     "text": [
      "\n",
      "original list:  [10, 20, 'Apple', 10.22]\n",
      "\n",
      "\n",
      "second and third elements of a list: [20, 'Apple']\n"
     ]
    }
   ],
   "source": [
    "print('\\noriginal list: ', var4)\n",
    "var7 = var4[1:3]\n",
    "print('\\n\\nsecond and third elements of a list:', var7)"
   ]
  },
  {
   "cell_type": "markdown",
   "id": "16ef79f1",
   "metadata": {},
   "source": [
    "\n",
    "Slice a list to extract the first three elements.\n"
   ]
  },
  {
   "cell_type": "code",
   "execution_count": 37,
   "id": "86d94d3c",
   "metadata": {},
   "outputs": [
    {
     "data": {
      "text/plain": [
       "['a', 'b', 'c']"
      ]
     },
     "execution_count": 37,
     "metadata": {},
     "output_type": "execute_result"
    }
   ],
   "source": [
    "var8 = ['a', 'b', 'c', 'd', 'e', 'f']\n",
    "var9 = var8[:3]\n",
    "var9"
   ]
  },
  {
   "cell_type": "markdown",
   "id": "717afad5",
   "metadata": {},
   "source": [
    "Slice a list to extract the last three elements.\n"
   ]
  },
  {
   "cell_type": "code",
   "execution_count": 40,
   "id": "2f79b771",
   "metadata": {},
   "outputs": [
    {
     "data": {
      "text/plain": [
       "['d', 'e', 'f']"
      ]
     },
     "execution_count": 40,
     "metadata": {},
     "output_type": "execute_result"
    }
   ],
   "source": [
    "var8 = ['a', 'b', 'c', 'd', 'e', 'f']\n",
    "var10 = var8[-3:]\n",
    "var10"
   ]
  },
  {
   "cell_type": "markdown",
   "id": "da7f582e",
   "metadata": {},
   "source": [
    "Slice a list to get every second element.\n"
   ]
  },
  {
   "cell_type": "code",
   "execution_count": 42,
   "id": "4edeea3d",
   "metadata": {},
   "outputs": [
    {
     "data": {
      "text/plain": [
       "['a', 'c', 'e']"
      ]
     },
     "execution_count": 42,
     "metadata": {},
     "output_type": "execute_result"
    }
   ],
   "source": [
    "var8 = ['a', 'b', 'c', 'd', 'e', 'f']\n",
    "var11 = var8[::2]\n",
    "var11"
   ]
  },
  {
   "cell_type": "markdown",
   "id": "011bb9f7",
   "metadata": {},
   "source": [
    "Reverse a list using slicing."
   ]
  },
  {
   "cell_type": "code",
   "execution_count": 44,
   "id": "c11e7110",
   "metadata": {},
   "outputs": [
    {
     "data": {
      "text/plain": [
       "['f', 'e', 'd', 'c', 'b', 'a']"
      ]
     },
     "execution_count": 44,
     "metadata": {},
     "output_type": "execute_result"
    }
   ],
   "source": [
    "var8 = ['a', 'b', 'c', 'd', 'e', 'f']\n",
    "var12 = var8[::-1]\n",
    "var12"
   ]
  },
  {
   "cell_type": "markdown",
   "id": "5f45b7a8",
   "metadata": {},
   "source": [
    " Create two lists and concatenate them.\n"
   ]
  },
  {
   "cell_type": "code",
   "execution_count": 45,
   "id": "2c210b01",
   "metadata": {},
   "outputs": [
    {
     "name": "stdout",
     "output_type": "stream",
     "text": [
      "[1, 2, 3, 4, 5, 6]\n"
     ]
    }
   ],
   "source": [
    "a = [1, 2, 3]\n",
    "b = [4, 5, 6]\n",
    "c = a + b\n",
    "print(c)"
   ]
  },
  {
   "cell_type": "markdown",
   "id": "a6c019d7",
   "metadata": {},
   "source": [
    "\n",
    "Repeat a list multiple times using the repetition operator"
   ]
  },
  {
   "cell_type": "code",
   "execution_count": 46,
   "id": "b40d10b9",
   "metadata": {},
   "outputs": [
    {
     "data": {
      "text/plain": [
       "[1, 2, 3, 4, 5, 6, 1, 2, 3, 4, 5, 6, 1, 2, 3, 4, 5, 6, 1, 2, 3, 4, 5, 6]"
      ]
     },
     "execution_count": 46,
     "metadata": {},
     "output_type": "execute_result"
    }
   ],
   "source": [
    "d = c*4\n",
    "d"
   ]
  },
  {
   "cell_type": "markdown",
   "id": "0fdf9b21",
   "metadata": {},
   "source": [
    "Add a new element to the end of a list using the append() method.\n"
   ]
  },
  {
   "cell_type": "code",
   "execution_count": 67,
   "id": "86906fc9",
   "metadata": {},
   "outputs": [
    {
     "name": "stdout",
     "output_type": "stream",
     "text": [
      "[1, 'a', 'b']\n"
     ]
    }
   ],
   "source": [
    "varlist = [1, 'a']\n",
    "element_added = varlist.append('b')\n",
    "print(varlist)"
   ]
  },
  {
   "cell_type": "markdown",
   "id": "1812e852",
   "metadata": {},
   "source": [
    "\n",
    "Extend a list with elements from another list using the extend() method.\n"
   ]
  },
  {
   "cell_type": "code",
   "execution_count": 71,
   "id": "375a8ac2",
   "metadata": {},
   "outputs": [
    {
     "name": "stdout",
     "output_type": "stream",
     "text": [
      "[1, 'd', 2, 3]\n"
     ]
    }
   ],
   "source": [
    "varlist1 = [1, 'd']\n",
    "varlist2 = [2, 3]\n",
    "varlist3 = varlist1.extend(varlist2)\n",
    "print(varlist1)"
   ]
  },
  {
   "cell_type": "markdown",
   "id": "b4285741",
   "metadata": {},
   "source": [
    "Insert an element at a specific index in a list using the insert() method."
   ]
  },
  {
   "cell_type": "code",
   "execution_count": 73,
   "id": "5e5b2a93",
   "metadata": {},
   "outputs": [
    {
     "name": "stdout",
     "output_type": "stream",
     "text": [
      "[5, 6, 2, 7]\n"
     ]
    }
   ],
   "source": [
    "var4 = [5, 6, 7]\n",
    "var5 = var4.insert(2,2)\n",
    "print(var4)"
   ]
  },
  {
   "cell_type": "markdown",
   "id": "5926ef7b",
   "metadata": {},
   "source": [
    " Remove the last element from a list using the pop() method.\n",
    "\n"
   ]
  },
  {
   "cell_type": "code",
   "execution_count": 78,
   "id": "4e3c8c6d",
   "metadata": {},
   "outputs": [
    {
     "name": "stdout",
     "output_type": "stream",
     "text": [
      "['Green', 'Black', 'White']\n",
      "White\n",
      "['Green', 'Black']\n"
     ]
    }
   ],
   "source": [
    "print(var2)\n",
    "print(var2.pop())\n",
    "print(var2)"
   ]
  },
  {
   "cell_type": "markdown",
   "id": "34faaad1",
   "metadata": {},
   "source": [
    "Remove a specific element from a list using the remove() method.\n"
   ]
  },
  {
   "cell_type": "code",
   "execution_count": 86,
   "id": "2706c63d",
   "metadata": {},
   "outputs": [
    {
     "name": "stdout",
     "output_type": "stream",
     "text": [
      "['m', 1, 3]\n"
     ]
    }
   ],
   "source": [
    "spe_list = ['m', 1, 1.2, 3]\n",
    "var6 = spe_list.remove(1.2)\n",
    "print(spe_list)"
   ]
  },
  {
   "cell_type": "markdown",
   "id": "b066a57c",
   "metadata": {},
   "source": [
    "Clear all elements from a list.\n"
   ]
  },
  {
   "cell_type": "code",
   "execution_count": 91,
   "id": "a4cb30f8",
   "metadata": {},
   "outputs": [
    {
     "data": {
      "text/plain": [
       "[]"
      ]
     },
     "execution_count": 91,
     "metadata": {},
     "output_type": "execute_result"
    }
   ],
   "source": [
    "spe2_list = [5, 6, 7]\n",
    "empty_list = spe2_list.clear()\n",
    "spe2_list"
   ]
  },
  {
   "cell_type": "markdown",
   "id": "f9d4754d",
   "metadata": {},
   "source": [
    "Delete an element at a specific index using the del statement."
   ]
  },
  {
   "cell_type": "code",
   "execution_count": 92,
   "id": "adbc06c2",
   "metadata": {},
   "outputs": [
    {
     "data": {
      "text/plain": [
       "[6, 8, 5, 7]"
      ]
     },
     "execution_count": 92,
     "metadata": {},
     "output_type": "execute_result"
    }
   ],
   "source": [
    "spe3_list = [6, 8, 6, 5, 7]\n",
    "del spe3_list[2]\n",
    "spe3_list"
   ]
  },
  {
   "cell_type": "markdown",
   "id": "6fda5133",
   "metadata": {},
   "source": [
    "Convert a string to a list of characters and vice-versa."
   ]
  },
  {
   "cell_type": "code",
   "execution_count": 101,
   "id": "7c9fe1dc",
   "metadata": {},
   "outputs": [
    {
     "name": "stdout",
     "output_type": "stream",
     "text": [
      "['A', 'd', 'n', 'a', 'n', ' ', 'L', 'a', 't', 'i', 'f'] <class 'list'>\n"
     ]
    }
   ],
   "source": [
    "str1 = 'Adnan Latif'\n",
    "list_char = list(str1)\n",
    "print(list_char, type(list_char))"
   ]
  },
  {
   "cell_type": "markdown",
   "id": "6a8b0fb6",
   "metadata": {},
   "source": [
    "Sort a list in ascending order using the sort() method.\n"
   ]
  },
  {
   "cell_type": "code",
   "execution_count": 106,
   "id": "749b040c",
   "metadata": {},
   "outputs": [
    {
     "name": "stdout",
     "output_type": "stream",
     "text": [
      "['a', 'b', 'd', 'e', 'c']\n",
      "\n",
      "\n",
      "Ascending order List: ['a', 'b', 'c', 'd', 'e']\n"
     ]
    }
   ],
   "source": [
    "original_list = ['a', 'b', 'd', 'e', 'c']\n",
    "print(original_list)\n",
    "\n",
    "original_list.sort()\n",
    "print(\"\\n\\nAscending order List:\", original_list)"
   ]
  },
  {
   "cell_type": "code",
   "execution_count": null,
   "id": "8a1c1820",
   "metadata": {},
   "outputs": [],
   "source": [
    "\n",
    "Sort a list in descending order using the sort() method.\n"
   ]
  },
  {
   "cell_type": "code",
   "execution_count": 107,
   "id": "9d3b86b3",
   "metadata": {},
   "outputs": [
    {
     "name": "stdout",
     "output_type": "stream",
     "text": [
      "['a', 'b', 'd', 'e', 'c']\n",
      "\n",
      "\n",
      "descending order List: ['e', 'd', 'c', 'b', 'a']\n"
     ]
    }
   ],
   "source": [
    "original_list = ['a', 'b', 'd', 'e', 'c']\n",
    "print(original_list)\n",
    "\n",
    "original_list.sort(reverse = True)\n",
    "print(\"\\n\\ndescending order List:\", original_list)"
   ]
  },
  {
   "cell_type": "markdown",
   "id": "04c5419a",
   "metadata": {},
   "source": [
    "Reverse the order of a list using the reverse() method.\n"
   ]
  },
  {
   "cell_type": "code",
   "execution_count": 109,
   "id": "f0eac28f",
   "metadata": {},
   "outputs": [
    {
     "name": "stdout",
     "output_type": "stream",
     "text": [
      "['l', 'm', 'p', 'n', 'o']\n",
      "\n",
      "\n",
      "descending order List: ['p', 'o', 'n', 'm', 'l']\n"
     ]
    }
   ],
   "source": [
    "original_list2 = ['l', 'm', 'p', 'n', 'o']\n",
    "print(original_list2)\n",
    "\n",
    "original_list2.sort(reverse = True)\n",
    "print(\"\\n\\ndescending order List:\", original_list2)"
   ]
  },
  {
   "cell_type": "markdown",
   "id": "ea816319",
   "metadata": {},
   "source": [
    "Check if an element is present in a list using the in operator.\n"
   ]
  },
  {
   "cell_type": "code",
   "execution_count": 110,
   "id": "db2e8041",
   "metadata": {},
   "outputs": [
    {
     "data": {
      "text/plain": [
       "True"
      ]
     },
     "execution_count": 110,
     "metadata": {},
     "output_type": "execute_result"
    }
   ],
   "source": [
    "original_list2 = ['l', 'm', 'p', 'n', 'o']\n",
    "test = 'n' in original_list2\n",
    "test"
   ]
  },
  {
   "cell_type": "markdown",
   "id": "f17e9e0a",
   "metadata": {},
   "source": [
    "Compare two lists to see if they are equal in both value and identity.\n"
   ]
  },
  {
   "cell_type": "code",
   "execution_count": 112,
   "id": "cc5763b1",
   "metadata": {},
   "outputs": [
    {
     "name": "stdout",
     "output_type": "stream",
     "text": [
      "False\n",
      "False\n"
     ]
    }
   ],
   "source": [
    "listno1 = ['a', 'c', 'd']\n",
    "listno2 = ['a', 'f', 'd']\n",
    "print(listno1 is listno2)\n",
    "print(listno1 == listno2)"
   ]
  },
  {
   "cell_type": "markdown",
   "id": "19d815f3",
   "metadata": {},
   "source": [
    "Create a shallow copy of a list and modify one of the lists to observe the effects on the other.\n"
   ]
  },
  {
   "cell_type": "code",
   "execution_count": 113,
   "id": "92979606",
   "metadata": {},
   "outputs": [
    {
     "name": "stdout",
     "output_type": "stream",
     "text": [
      "['d', 'v', 'e']\n",
      "['d', 'v', 'mmm']\n"
     ]
    }
   ],
   "source": [
    "var50 = ['d', 'v', 'e']\n",
    "var60 = var50[:]\n",
    "var60[2] = 'mmm'\n",
    "print(var50)\n",
    "print(var60)"
   ]
  },
  {
   "cell_type": "markdown",
   "id": "6c8f1702",
   "metadata": {},
   "source": [
    "Create a deep copy of a nested list and modify one of the lists to observe the effects on the other."
   ]
  },
  {
   "cell_type": "code",
   "execution_count": 115,
   "id": "87a8af6d",
   "metadata": {},
   "outputs": [
    {
     "name": "stdout",
     "output_type": "stream",
     "text": [
      "[1, 2, 4, 5, [2, 3, 5]]\n"
     ]
    },
    {
     "data": {
      "text/plain": [
       "[1, 2, 4, 5, [2, 3, 'aaa']]"
      ]
     },
     "execution_count": 115,
     "metadata": {},
     "output_type": "execute_result"
    }
   ],
   "source": [
    "import copy\n",
    "var70 = [1, 2, 4, 5, [2, 3, 5]]\n",
    "var80 = copy.deepcopy(var70)\n",
    "var80[4][2] = 'aaa'\n",
    "print(var70)\n",
    "var80"
   ]
  },
  {
   "cell_type": "markdown",
   "id": "c52154a0",
   "metadata": {},
   "source": [
    "Pickle and Unpickle a list and display its content."
   ]
  },
  {
   "cell_type": "code",
   "execution_count": 24,
   "id": "2c97aff5",
   "metadata": {},
   "outputs": [
    {
     "name": "stdout",
     "output_type": "stream",
     "text": [
      "b'\\x80\\x04\\x95E\\x00\\x00\\x00\\x00\\x00\\x00\\x00]\\x94(\\x8c\\x08builtins\\x94\\x8c\\x07complex\\x94\\x93\\x94G@\\x00\\x00\\x00\\x00\\x00\\x00\\x00G@\\x08\\x00\\x00\\x00\\x00\\x00\\x00\\x86\\x94R\\x94\\x8c\\x06Python\\x94\\x88G@\\t\\x1e\\xb8Q\\xeb\\x85\\x1fe.'\n"
     ]
    }
   ],
   "source": [
    "import pickle \n",
    "\n",
    "l = [2 + 3j, 'Python', True, 3.14]\n",
    "\n",
    "# pickle the created list\n",
    "data = pickle.dumps(l)\n",
    "print(data)"
   ]
  },
  {
   "cell_type": "code",
   "execution_count": 25,
   "id": "9415e114",
   "metadata": {},
   "outputs": [
    {
     "name": "stdout",
     "output_type": "stream",
     "text": [
      "[(2+3j), 'Python', True, 3.14]\n"
     ]
    }
   ],
   "source": [
    "# printing the unpickled data\n",
    "unpickled_data = pickle.loads(data)\n",
    "print(unpickled_data)"
   ]
  }
 ],
 "metadata": {
  "kernelspec": {
   "display_name": "Python 3 (ipykernel)",
   "language": "python",
   "name": "python3"
  },
  "language_info": {
   "codemirror_mode": {
    "name": "ipython",
    "version": 3
   },
   "file_extension": ".py",
   "mimetype": "text/x-python",
   "name": "python",
   "nbconvert_exporter": "python",
   "pygments_lexer": "ipython3",
   "version": "3.11.5"
  }
 },
 "nbformat": 4,
 "nbformat_minor": 5
}
