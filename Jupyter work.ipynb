{
 "cells": [
  {
   "cell_type": "code",
   "execution_count": 1,
   "id": "298d5572",
   "metadata": {},
   "outputs": [
    {
     "data": {
      "text/plain": [
       "'C:\\\\Users\\\\Rizwan Sharif'"
      ]
     },
     "execution_count": 1,
     "metadata": {},
     "output_type": "execute_result"
    }
   ],
   "source": [
    "%pwd"
   ]
  },
  {
   "cell_type": "markdown",
   "id": "8b5e1107",
   "metadata": {},
   "source": [
    "Adnan Latif"
   ]
  },
  {
   "cell_type": "markdown",
   "id": "acdf01d9",
   "metadata": {},
   "source": [
    "HI"
   ]
  },
  {
   "cell_type": "code",
   "execution_count": null,
   "id": "1460dbb3",
   "metadata": {},
   "outputs": [],
   "source": [
    "https://github.com/Adi092259/Adnan/blob/e6b9936b0523cf96e13fdc9893d6cea558bcb198/Jupyter%20work.ipynb"
   ]
  }
 ],
 "metadata": {
  "kernelspec": {
   "display_name": "Python 3 (ipykernel)",
   "language": "python",
   "name": "python3"
  },
  "language_info": {
   "codemirror_mode": {
    "name": "ipython",
    "version": 3
   },
   "file_extension": ".py",
   "mimetype": "text/x-python",
   "name": "python",
   "nbconvert_exporter": "python",
   "pygments_lexer": "ipython3",
   "version": "3.11.5"
  }
 },
 "nbformat": 4,
 "nbformat_minor": 5
}
