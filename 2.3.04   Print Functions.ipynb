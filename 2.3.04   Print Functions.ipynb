{
 "cells": [
  {
   "cell_type": "code",
   "execution_count": 1,
   "id": "8348b0b8",
   "metadata": {},
   "outputs": [
    {
     "name": "stdout",
     "output_type": "stream",
     "text": [
      "1\n",
      "apple\n",
      "23.42\n",
      "1 : apple : 23.42 : "
     ]
    }
   ],
   "source": [
    "ser = 1\n",
    "item = 'apple'\n",
    "price = float(23.42)\n",
    "\n",
    "# Three print statements, each implicitly using the newline character at the end\n",
    "print(ser)\n",
    "print(item)\n",
    "print(price)\n",
    "\n",
    "# Three print statements, each using end keyword and using the ' : ' instead of newline character\n",
    "print(ser, end=' : ')\n",
    "print(item, end=' : ')\n",
    "print(price, end=' : ')"
   ]
  },
  {
   "cell_type": "code",
   "execution_count": 2,
   "id": "b4aeef95",
   "metadata": {},
   "outputs": [
    {
     "name": "stdout",
     "output_type": "stream",
     "text": [
      "It's my birthday\n"
     ]
    }
   ],
   "source": [
    "#print('It's my birthday')   # This will flag an error\n",
    "print('It\\'s my birthday')"
   ]
  },
  {
   "cell_type": "code",
   "execution_count": 3,
   "id": "a94b388a",
   "metadata": {},
   "outputs": [
    {
     "name": "stdout",
     "output_type": "stream",
     "text": [
      "Hello\tWorld\n",
      "Hello\n",
      "World\n"
     ]
    }
   ],
   "source": [
    "# Similarly, we can give an ordinary character 't' and 'n', special meanings by preceding them by a back slash\n",
    "print('Hello\\tWorld')\n",
    "print('Hello\\nWorld')"
   ]
  },
  {
   "cell_type": "code",
   "execution_count": 4,
   "id": "a35bad6f",
   "metadata": {},
   "outputs": [
    {
     "name": "stdout",
     "output_type": "stream",
     "text": [
      "Hello Mr. Arif Butt.\n",
      "Mr. Arif Butt, you are 51 years old.\n"
     ]
    }
   ],
   "source": [
    "# Option 1:\n",
    "age = 51;    name = \"Arif Butt\"\n",
    "print(\"Hello Mr. %s.\" % (name))\n",
    "print(\"Mr. %s, you are %s years old.\" % (name, age))"
   ]
  },
  {
   "cell_type": "code",
   "execution_count": 5,
   "id": "72a47527",
   "metadata": {},
   "outputs": [
    {
     "name": "stdout",
     "output_type": "stream",
     "text": [
      "Hello Mr. Arif Butt.\n",
      "Mr. Arif Butt, you are 51 years old.\n"
     ]
    }
   ],
   "source": [
    "# Option 2: \n",
    "age = 51;    name = \"Arif Butt\"\n",
    "print(\"Hello Mr. {}.\".format(name))\n",
    "print(\"Mr. {}, you are {} years old.\" .format(name, age))"
   ]
  },
  {
   "cell_type": "code",
   "execution_count": 6,
   "id": "6faf2ad0",
   "metadata": {},
   "outputs": [
    {
     "name": "stdout",
     "output_type": "stream",
     "text": [
      "Hello Mr. Arif Butt.\n",
      "Mr. Arif Butt, you are 51 years old.\n"
     ]
    }
   ],
   "source": [
    "# Option 2: You can mention indices of variables passed to format() function, if you want a different \n",
    "# sequence as in following example\n",
    "age = 51;    name = \"Arif Butt\"\n",
    "print(\"Hello Mr. {0}.\".format(name))\n",
    "print(\"Mr. {1}, you are {0} years old.\" .format(age, name))"
   ]
  },
  {
   "cell_type": "code",
   "execution_count": null,
   "id": "860749f2",
   "metadata": {},
   "outputs": [],
   "source": []
  }
 ],
 "metadata": {
  "kernelspec": {
   "display_name": "Python 3 (ipykernel)",
   "language": "python",
   "name": "python3"
  },
  "language_info": {
   "codemirror_mode": {
    "name": "ipython",
    "version": 3
   },
   "file_extension": ".py",
   "mimetype": "text/x-python",
   "name": "python",
   "nbconvert_exporter": "python",
   "pygments_lexer": "ipython3",
   "version": "3.11.5"
  }
 },
 "nbformat": 4,
 "nbformat_minor": 5
}
