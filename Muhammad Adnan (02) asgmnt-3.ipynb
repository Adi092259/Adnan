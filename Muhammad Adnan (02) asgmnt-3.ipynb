{
 "cells": [
  {
   "cell_type": "markdown",
   "id": "97dd878a",
   "metadata": {},
   "source": [
    "### Assignment-03 (Strings)\n",
    "- Change the notebook name with your name and Roll Number.\n",
    "- Try this as your own, no chatgpt (it's for your learning)\n",
    "- after completing the assignment, submit this book on google class room."
   ]
  },
  {
   "cell_type": "markdown",
   "id": "e2bd2715",
   "metadata": {},
   "source": [
    "Create a string variable with your name and print it.\n"
   ]
  },
  {
   "cell_type": "code",
   "execution_count": 11,
   "id": "bb419df7",
   "metadata": {},
   "outputs": [
    {
     "data": {
      "text/plain": [
       "'Muhammad Adnan'"
      ]
     },
     "execution_count": 11,
     "metadata": {},
     "output_type": "execute_result"
    }
   ],
   "source": [
    "name = 'Muhammad Adnan'\n",
    "name"
   ]
  },
  {
   "cell_type": "markdown",
   "id": "038709aa",
   "metadata": {},
   "source": [
    "Define a multiline string that includes line breaks and print it.\n"
   ]
  },
  {
   "cell_type": "code",
   "execution_count": 77,
   "id": "707d597b",
   "metadata": {},
   "outputs": [
    {
     "name": "stdout",
     "output_type": "stream",
     "text": [
      "My name is Muhammad Adnan.\n",
      "My father name is Muhammad Latif.\n",
      "I live in Kasur \n",
      "\n",
      " <class 'str'>\n"
     ]
    }
   ],
   "source": [
    "var1 = \"\"\"My name is Muhammad Adnan.\n",
    "My father name is Muhammad Latif.\n",
    "I live in Kasur\"\"\"\n",
    "print(var1, \"\\n\\n\", type(var1))"
   ]
  },
  {
   "cell_type": "markdown",
   "id": "0c79c559",
   "metadata": {},
   "source": [
    "Access the first character of a string.\n"
   ]
  },
  {
   "cell_type": "code",
   "execution_count": 75,
   "id": "3dd571a7",
   "metadata": {},
   "outputs": [
    {
     "data": {
      "text/plain": [
       "'M'"
      ]
     },
     "execution_count": 75,
     "metadata": {},
     "output_type": "execute_result"
    }
   ],
   "source": [
    "first_char = var1[0]\n",
    "first_char"
   ]
  },
  {
   "cell_type": "markdown",
   "id": "eea487fc",
   "metadata": {},
   "source": [
    "Access the last character of a string.\n"
   ]
  },
  {
   "cell_type": "code",
   "execution_count": 76,
   "id": "3efc26a3",
   "metadata": {},
   "outputs": [
    {
     "data": {
      "text/plain": [
       "'r'"
      ]
     },
     "execution_count": 76,
     "metadata": {},
     "output_type": "execute_result"
    }
   ],
   "source": [
    "last_char = var1[-1]\n",
    "last_char"
   ]
  },
  {
   "cell_type": "markdown",
   "id": "eafa1f78",
   "metadata": {},
   "source": [
    "Access the second to the fifth character of a string."
   ]
  },
  {
   "cell_type": "code",
   "execution_count": 79,
   "id": "1a183435",
   "metadata": {},
   "outputs": [
    {
     "name": "stdout",
     "output_type": "stream",
     "text": [
      "y na\n"
     ]
    }
   ],
   "source": [
    "var2_5 = var1[1:5]\n",
    "print(var2_5)"
   ]
  },
  {
   "cell_type": "markdown",
   "id": "345dabe1",
   "metadata": {},
   "source": [
    "Attempt to change a character within an existing string and explain the result.\n"
   ]
  },
  {
   "cell_type": "code",
   "execution_count": 81,
   "id": "4a2c3c34",
   "metadata": {},
   "outputs": [
    {
     "name": "stdout",
     "output_type": "stream",
     "text": [
      "My name is Muhammad Adnan.\n",
      "My father name is Muhammad Latif.\n",
      "I live in Kasur\n"
     ]
    },
    {
     "ename": "TypeError",
     "evalue": "'str' object does not support item assignment",
     "output_type": "error",
     "traceback": [
      "\u001b[1;31m---------------------------------------------------------------------------\u001b[0m",
      "\u001b[1;31mTypeError\u001b[0m                                 Traceback (most recent call last)",
      "Cell \u001b[1;32mIn[81], line 2\u001b[0m\n\u001b[0;32m      1\u001b[0m \u001b[38;5;28mprint\u001b[39m(var1)\n\u001b[1;32m----> 2\u001b[0m changed_str \u001b[38;5;241m=\u001b[39m var1[\u001b[38;5;241m5\u001b[39m] \u001b[38;5;241m=\u001b[39m \u001b[38;5;124m'\u001b[39m\u001b[38;5;124ma\u001b[39m\u001b[38;5;124m'\u001b[39m\n\u001b[0;32m      3\u001b[0m \u001b[38;5;28mprint\u001b[39m(changed_str)\n",
      "\u001b[1;31mTypeError\u001b[0m: 'str' object does not support item assignment"
     ]
    }
   ],
   "source": [
    "print(var1)\n",
    "changed_str = var1[5] = 'a'\n",
    "print(changed_str)"
   ]
  },
  {
   "cell_type": "markdown",
   "id": "915097a4",
   "metadata": {},
   "source": [
    "\n",
    "Slice a string to obtain the first 3 characters.\n"
   ]
  },
  {
   "cell_type": "code",
   "execution_count": 95,
   "id": "eeafdee2",
   "metadata": {},
   "outputs": [
    {
     "name": "stdout",
     "output_type": "stream",
     "text": [
      "original string:\n",
      "      My name is Muhammad Adnan.\n",
      "My father name is Muhammad Latif.\n",
      "I live in Kasur\n",
      "\n",
      "\n",
      " My \n"
     ]
    }
   ],
   "source": [
    "print(\"original string:\\n     \", var1)\n",
    "substr1 = var1[0:3]\n",
    "print(\"\\n\\n\", substr1)"
   ]
  },
  {
   "cell_type": "markdown",
   "id": "97f70e4d",
   "metadata": {},
   "source": [
    "Slice a string to obtain the last 4 characters.\n"
   ]
  },
  {
   "cell_type": "code",
   "execution_count": 94,
   "id": "cd07247a",
   "metadata": {},
   "outputs": [
    {
     "name": "stdout",
     "output_type": "stream",
     "text": [
      "original string:\n",
      "      My name is Muhammad Adnan.\n",
      "My father name is Muhammad Latif.\n",
      "I live in Kasur\n",
      "\n",
      "\n",
      " asur\n"
     ]
    }
   ],
   "source": [
    "print(\"original string:\\n     \", var1)\n",
    "substr2 = var1[-4:]\n",
    "print(\"\\n\\n\", substr2)"
   ]
  },
  {
   "cell_type": "markdown",
   "id": "db421ce3",
   "metadata": {},
   "source": [
    "Slice a string to get every second character.\n"
   ]
  },
  {
   "cell_type": "code",
   "execution_count": 96,
   "id": "a8b066a6",
   "metadata": {},
   "outputs": [
    {
     "name": "stdout",
     "output_type": "stream",
     "text": [
      "original string:\n",
      "      My name is Muhammad Adnan.\n",
      "My father name is Muhammad Latif.\n",
      "I live in Kasur\n",
      "\n",
      "\n",
      " M aei uamdAnn\n",
      "yfte aei uamdLtf\n",
      " iei au\n"
     ]
    }
   ],
   "source": [
    "print(\"original string:\\n     \", var1)\n",
    "substr2 = var1[::2]\n",
    "print(\"\\n\\n\", substr2)"
   ]
  },
  {
   "cell_type": "markdown",
   "id": "ff5b4751",
   "metadata": {},
   "source": [
    "Reverse a string using slicing."
   ]
  },
  {
   "cell_type": "code",
   "execution_count": 100,
   "id": "c4c4c969",
   "metadata": {},
   "outputs": [
    {
     "name": "stdout",
     "output_type": "stream",
     "text": [
      "ZYXWVUTSEQPONMLKJIHGFEDCBA\n"
     ]
    }
   ],
   "source": [
    "var2 = \"ABCDEFGHIJKLMNOPQESTUVWXYZ\"\n",
    "rev_var = var2[::-1]\n",
    "print(rev_var)"
   ]
  },
  {
   "cell_type": "markdown",
   "id": "c8b7f82a",
   "metadata": {},
   "source": [
    "Create two string variables and concatenate them.\n",
    "\n"
   ]
  },
  {
   "cell_type": "code",
   "execution_count": 110,
   "id": "c4d4f5ae",
   "metadata": {},
   "outputs": [
    {
     "name": "stdout",
     "output_type": "stream",
     "text": [
      "ABCDEFGHIJKLMNOPQESTUVWXYZ\n",
      "Adnan \n",
      " <class 'str'>\n",
      "\n",
      "\n",
      " ABCDEFGHIJKLMNOPQESTUVWXYZAdnan\n"
     ]
    }
   ],
   "source": [
    "print(var2)\n",
    "var3 = \"Adnan\"\n",
    "print(var3, \"\\n\", type(var3))\n",
    "con_var = var2 + var3\n",
    "print(\"\\n\\n\", con_var)"
   ]
  },
  {
   "cell_type": "markdown",
   "id": "13e8d4b1",
   "metadata": {},
   "source": [
    "Concatenate a string with a number (convert the number to a string first)."
   ]
  },
  {
   "cell_type": "code",
   "execution_count": 114,
   "id": "cc366c5e",
   "metadata": {},
   "outputs": [
    {
     "name": "stdout",
     "output_type": "stream",
     "text": [
      "ABCDEFGHIJKLMNOPQESTUVWXYZ\n",
      "\n",
      " 1234567890 <class 'str'>\n",
      "\n",
      " ABCDEFGHIJKLMNOPQESTUVWXYZ1234567890\n"
     ]
    }
   ],
   "source": [
    "print(var2)\n",
    "var4 = str(\"1234567890\")\n",
    "print(\"\\n\", var4, type(var4))\n",
    "con_var2 = var2 + var4\n",
    "print(\"\\n\", con_var2)"
   ]
  },
  {
   "cell_type": "markdown",
   "id": "201b3886",
   "metadata": {},
   "source": [
    "Generate a string that repeats \"abc\" 10 times.\n",
    "\n"
   ]
  },
  {
   "cell_type": "code",
   "execution_count": 116,
   "id": "01d068c1",
   "metadata": {},
   "outputs": [
    {
     "name": "stdout",
     "output_type": "stream",
     "text": [
      "abcabcabcabcabcabcabcabcabcabc <class 'str'>\n"
     ]
    }
   ],
   "source": [
    "var5 = 'abc'*10\n",
    "print(var5, type(var5))"
   ]
  },
  {
   "cell_type": "markdown",
   "id": "c668c12f",
   "metadata": {},
   "source": [
    "Create a string containing a repeating pattern of your choice."
   ]
  },
  {
   "cell_type": "code",
   "execution_count": 120,
   "id": "948db73c",
   "metadata": {},
   "outputs": [
    {
     "data": {
      "text/plain": [
       "('11223333333333', str)"
      ]
     },
     "execution_count": 120,
     "metadata": {},
     "output_type": "execute_result"
    }
   ],
   "source": [
    "var6 = \"1\"*2 + \"2\"*2 + \"3\"*10\n",
    "var6, type(var6)"
   ]
  },
  {
   "cell_type": "markdown",
   "id": "597fce86",
   "metadata": {},
   "source": [
    "Convert a string to lowercase using the lower() method.\n"
   ]
  },
  {
   "cell_type": "code",
   "execution_count": 121,
   "id": "091297bd",
   "metadata": {},
   "outputs": [
    {
     "name": "stdout",
     "output_type": "stream",
     "text": [
      "adnan\n"
     ]
    }
   ],
   "source": [
    "var7 = 'ADNAN'\n",
    "print(var7.lower())"
   ]
  },
  {
   "cell_type": "markdown",
   "id": "e96bb408",
   "metadata": {},
   "source": [
    "\n",
    "Convert a string to uppercase using the upper() method.\n"
   ]
  },
  {
   "cell_type": "code",
   "execution_count": 122,
   "id": "a2598fc3",
   "metadata": {},
   "outputs": [
    {
     "name": "stdout",
     "output_type": "stream",
     "text": [
      "LATIF\n"
     ]
    }
   ],
   "source": [
    "var8 = 'latif'\n",
    "print(var8.upper())"
   ]
  },
  {
   "cell_type": "markdown",
   "id": "92ab5b20",
   "metadata": {},
   "source": [
    "Remove leading and trailing whitespace from a string using the strip() method.\n"
   ]
  },
  {
   "cell_type": "code",
   "execution_count": 123,
   "id": "0507e93a",
   "metadata": {},
   "outputs": [
    {
     "data": {
      "text/plain": [
       "'ABCDEFGHI  JKLMNOPQRSTUV  WXYZ'"
      ]
     },
     "execution_count": 123,
     "metadata": {},
     "output_type": "execute_result"
    }
   ],
   "source": [
    "var9 = '     ABCDEFGHI  JKLMNOPQRSTUV  WXYZ     '\n",
    "var10 = var9.strip()\n",
    "var10"
   ]
  },
  {
   "cell_type": "markdown",
   "id": "a91e7489",
   "metadata": {},
   "source": [
    "Check if a string starts with a specific prefix using the startswith() method.\n"
   ]
  },
  {
   "cell_type": "code",
   "execution_count": 129,
   "id": "3c01dd7d",
   "metadata": {},
   "outputs": [
    {
     "data": {
      "text/plain": [
       "True"
      ]
     },
     "execution_count": 129,
     "metadata": {},
     "output_type": "execute_result"
    }
   ],
   "source": [
    "var11 = 'Adnan Latif'\n",
    "check_var = var11.startswith('Ad')\n",
    "check_var"
   ]
  },
  {
   "cell_type": "markdown",
   "id": "4b8b4581",
   "metadata": {},
   "source": [
    "Split a string into a list of words using the split() method.\n"
   ]
  },
  {
   "cell_type": "code",
   "execution_count": 133,
   "id": "5bcc4070",
   "metadata": {},
   "outputs": [
    {
     "name": "stdout",
     "output_type": "stream",
     "text": [
      "Adnan Latif\n"
     ]
    },
    {
     "data": {
      "text/plain": [
       "(['Adnan', 'Latif'], list)"
      ]
     },
     "execution_count": 133,
     "metadata": {},
     "output_type": "execute_result"
    }
   ],
   "source": [
    "print(var11)\n",
    "sp_var = var11.split(' ')\n",
    "sp_var, type(sp_var)"
   ]
  },
  {
   "cell_type": "markdown",
   "id": "37dd8ff8",
   "metadata": {},
   "source": [
    "Join a list of words into a single string using the join() method."
   ]
  },
  {
   "cell_type": "code",
   "execution_count": 137,
   "id": "473860cd",
   "metadata": {},
   "outputs": [
    {
     "name": "stdout",
     "output_type": "stream",
     "text": [
      "['Adnan', 'Latif']\n",
      "\n",
      "\n",
      " Adnan Latif\n"
     ]
    }
   ],
   "source": [
    "print(sp_var)\n",
    "delimeter = ' '\n",
    "var12 = delimeter.join(sp_var)\n",
    "print(\"\\n\\n\", var12)"
   ]
  },
  {
   "cell_type": "code",
   "execution_count": null,
   "id": "1af3ae45",
   "metadata": {},
   "outputs": [],
   "source": []
  }
 ],
 "metadata": {
  "kernelspec": {
   "display_name": "Python 3 (ipykernel)",
   "language": "python",
   "name": "python3"
  },
  "language_info": {
   "codemirror_mode": {
    "name": "ipython",
    "version": 3
   },
   "file_extension": ".py",
   "mimetype": "text/x-python",
   "name": "python",
   "nbconvert_exporter": "python",
   "pygments_lexer": "ipython3",
   "version": "3.11.5"
  }
 },
 "nbformat": 4,
 "nbformat_minor": 5
}
