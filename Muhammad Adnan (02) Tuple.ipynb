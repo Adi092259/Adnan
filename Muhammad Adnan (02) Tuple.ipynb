{
 "cells": [
  {
   "cell_type": "markdown",
   "id": "1488806a",
   "metadata": {},
   "source": [
    "### Assignment-05 (Tuple)\n",
    "- Change the notebook name with your name and Roll Number.\n",
    "- Try this as your own, no chatgpt (it's for your learning)\n",
    "- after completing the assignment, submit this book on google class room."
   ]
  },
  {
   "cell_type": "markdown",
   "id": "0f49daa5",
   "metadata": {},
   "source": [
    "    Create an empty tuple and print it.\n",
    "        "
   ]
  },
  {
   "cell_type": "code",
   "execution_count": 49,
   "id": "9f34fb22",
   "metadata": {},
   "outputs": [
    {
     "name": "stdout",
     "output_type": "stream",
     "text": [
      "() <class 'tuple'>\n"
     ]
    }
   ],
   "source": [
    "mytuple = ()\n",
    "print(mytuple, type(mytuple))"
   ]
  },
  {
   "cell_type": "markdown",
   "id": "e043fa87",
   "metadata": {},
   "source": [
    "    Create a tuple of your favorite fruits and print it.\n"
   ]
  },
  {
   "cell_type": "code",
   "execution_count": 3,
   "id": "a8075e3e",
   "metadata": {},
   "outputs": [
    {
     "name": "stdout",
     "output_type": "stream",
     "text": [
      "('Apple', 'Orange', 'Grapes') <class 'tuple'>\n"
     ]
    }
   ],
   "source": [
    "mytuple1 = ('Apple', 'Orange', 'Grapes')\n",
    "print(mytuple1, type(mytuple1))"
   ]
  },
  {
   "cell_type": "markdown",
   "id": "63103aae",
   "metadata": {},
   "source": [
    "    Create a tuple that includes a mix of data types (integers, strings, floats).\n",
    "  "
   ]
  },
  {
   "cell_type": "code",
   "execution_count": 4,
   "id": "02d21498",
   "metadata": {},
   "outputs": [
    {
     "name": "stdout",
     "output_type": "stream",
     "text": [
      "('Apple', 'ID', 2, 3, 4, 3.14) <class 'tuple'>\n"
     ]
    }
   ],
   "source": [
    "mytuple2 = ('Apple', 'ID', 2, 3, 4, 3.14)\n",
    "print(mytuple2, type(mytuple2))"
   ]
  },
  {
   "cell_type": "markdown",
   "id": "704e22bb",
   "metadata": {},
   "source": [
    "  Access the first element of a tuple.\n"
   ]
  },
  {
   "cell_type": "code",
   "execution_count": 6,
   "id": "bf90e463",
   "metadata": {},
   "outputs": [
    {
     "name": "stdout",
     "output_type": "stream",
     "text": [
      "('Apple', 'ID', 2, 3, 4, 3.14)\n"
     ]
    },
    {
     "data": {
      "text/plain": [
       "'Apple'"
      ]
     },
     "execution_count": 6,
     "metadata": {},
     "output_type": "execute_result"
    }
   ],
   "source": [
    "print(mytuple2)\n",
    "mytuple2[0]"
   ]
  },
  {
   "cell_type": "markdown",
   "id": "26563419",
   "metadata": {},
   "source": [
    "    Access the last element of a tuple."
   ]
  },
  {
   "cell_type": "code",
   "execution_count": 7,
   "id": "54b98b3a",
   "metadata": {},
   "outputs": [
    {
     "name": "stdout",
     "output_type": "stream",
     "text": [
      "('Apple', 'ID', 2, 3, 4, 3.14)\n"
     ]
    },
    {
     "data": {
      "text/plain": [
       "3.14"
      ]
     },
     "execution_count": 7,
     "metadata": {},
     "output_type": "execute_result"
    }
   ],
   "source": [
    "print(mytuple2)\n",
    "mytuple2[5]"
   ]
  },
  {
   "cell_type": "markdown",
   "id": "15d49e96",
   "metadata": {},
   "source": [
    "Access the second and third elements of a tuple.\n"
   ]
  },
  {
   "cell_type": "code",
   "execution_count": 9,
   "id": "1b8f2886",
   "metadata": {},
   "outputs": [
    {
     "name": "stdout",
     "output_type": "stream",
     "text": [
      "('Apple', 'ID', 2, 3, 4, 3.14)\n"
     ]
    },
    {
     "data": {
      "text/plain": [
       "('ID', 2)"
      ]
     },
     "execution_count": 9,
     "metadata": {},
     "output_type": "execute_result"
    }
   ],
   "source": [
    "print(mytuple2)\n",
    "mytuple2[1:3]"
   ]
  },
  {
   "cell_type": "markdown",
   "id": "069741b2",
   "metadata": {},
   "source": [
    "\n",
    "    Slice a tuple to extract the first three elements.\n",
    "    "
   ]
  },
  {
   "cell_type": "code",
   "execution_count": 10,
   "id": "ba3f17f2",
   "metadata": {},
   "outputs": [
    {
     "name": "stdout",
     "output_type": "stream",
     "text": [
      "('Apple', 'ID', 2, 3, 4, 3.14)\n"
     ]
    },
    {
     "data": {
      "text/plain": [
       "('Apple', 'ID', 2)"
      ]
     },
     "execution_count": 10,
     "metadata": {},
     "output_type": "execute_result"
    }
   ],
   "source": [
    "print(mytuple2)\n",
    "mytuple2[0:3]"
   ]
  },
  {
   "cell_type": "markdown",
   "id": "f5f8af36",
   "metadata": {},
   "source": [
    "Slice a tuple to extract the last three elements.\n",
    " "
   ]
  },
  {
   "cell_type": "code",
   "execution_count": 26,
   "id": "72b61419",
   "metadata": {},
   "outputs": [
    {
     "name": "stdout",
     "output_type": "stream",
     "text": [
      "('Apple', 'ID', 2, 3, 4, 3.14)\n"
     ]
    },
    {
     "data": {
      "text/plain": [
       "(3, 4, 3.14)"
      ]
     },
     "execution_count": 26,
     "metadata": {},
     "output_type": "execute_result"
    }
   ],
   "source": [
    "print(mytuple2)\n",
    "mytuple2[-3:]"
   ]
  },
  {
   "cell_type": "markdown",
   "id": "fbf3a8e6",
   "metadata": {},
   "source": [
    "   Slice a tuple to get every second element.\n"
   ]
  },
  {
   "cell_type": "code",
   "execution_count": 27,
   "id": "2f28222b",
   "metadata": {},
   "outputs": [
    {
     "name": "stdout",
     "output_type": "stream",
     "text": [
      "('Apple', 'ID', 2, 3, 4, 3.14)\n"
     ]
    },
    {
     "data": {
      "text/plain": [
       "('Apple', 2, 4)"
      ]
     },
     "execution_count": 27,
     "metadata": {},
     "output_type": "execute_result"
    }
   ],
   "source": [
    "print(mytuple2)\n",
    "mytuple2[::2]"
   ]
  },
  {
   "cell_type": "markdown",
   "id": "972a3d7e",
   "metadata": {},
   "source": [
    "    Reverse a tuple using slicing."
   ]
  },
  {
   "cell_type": "code",
   "execution_count": 28,
   "id": "a0c026b2",
   "metadata": {},
   "outputs": [
    {
     "name": "stdout",
     "output_type": "stream",
     "text": [
      "('Apple', 'ID', 2, 3, 4, 3.14)\n"
     ]
    },
    {
     "data": {
      "text/plain": [
       "(3.14, 4, 3, 2, 'ID', 'Apple')"
      ]
     },
     "execution_count": 28,
     "metadata": {},
     "output_type": "execute_result"
    }
   ],
   "source": [
    "print(mytuple2)\n",
    "mytuple2[::-1]"
   ]
  },
  {
   "cell_type": "markdown",
   "id": "ff819f8c",
   "metadata": {},
   "source": [
    "Create two tuples and concatenate them.\n",
    "\n"
   ]
  },
  {
   "cell_type": "code",
   "execution_count": 37,
   "id": "34bb1253",
   "metadata": {},
   "outputs": [
    {
     "name": "stdout",
     "output_type": "stream",
     "text": [
      "(1, 2, 3, 4, 5, 6, 7, 8, 9, 10) \n",
      " <class 'tuple'>\n"
     ]
    }
   ],
   "source": [
    "mytuple3 = (1,2,3,4,5)\n",
    "mytuple4 = (6,7,8,9,10)\n",
    "con_result = mytuple3 + mytuple4\n",
    "print(con_result, '\\n', type(con_result))"
   ]
  },
  {
   "cell_type": "markdown",
   "id": "6f81c447",
   "metadata": {},
   "source": [
    "    Repeat a tuple multiple times using the repetition operator."
   ]
  },
  {
   "cell_type": "code",
   "execution_count": 38,
   "id": "a7993e54",
   "metadata": {},
   "outputs": [
    {
     "name": "stdout",
     "output_type": "stream",
     "text": [
      "(6, 7, 8, 9, 10, 6, 7, 8, 9, 10, 6, 7, 8, 9, 10, 6, 7, 8, 9, 10)\n"
     ]
    }
   ],
   "source": [
    "print(mytuple4 * 4)"
   ]
  },
  {
   "cell_type": "markdown",
   "id": "e39bdb1d",
   "metadata": {},
   "source": [
    "Find the index of a specific element in a tuple using the index() method."
   ]
  },
  {
   "cell_type": "code",
   "execution_count": 39,
   "id": "d0887521",
   "metadata": {},
   "outputs": [
    {
     "name": "stdout",
     "output_type": "stream",
     "text": [
      "(6, 7, 8, 9, 10)\n"
     ]
    },
    {
     "data": {
      "text/plain": [
       "1"
      ]
     },
     "execution_count": 39,
     "metadata": {},
     "output_type": "execute_result"
    }
   ],
   "source": [
    "print(mytuple4)\n",
    "mytuple4.index(7)"
   ]
  },
  {
   "cell_type": "markdown",
   "id": "fc66ca7e",
   "metadata": {},
   "source": [
    "    Count the number of occurrences of a specific element in a tuple using the count() method."
   ]
  },
  {
   "cell_type": "code",
   "execution_count": 40,
   "id": "d9bf2831",
   "metadata": {},
   "outputs": [
    {
     "data": {
      "text/plain": [
       "3"
      ]
     },
     "execution_count": 40,
     "metadata": {},
     "output_type": "execute_result"
    }
   ],
   "source": [
    "mytuple5 = (1,1,1,2,2,2,3,3,3,3,3)\n",
    "mytuple5.count(2)"
   ]
  },
  {
   "cell_type": "markdown",
   "id": "9bdef970",
   "metadata": {},
   "source": [
    "Sort a tuple of numbers in ascending order.\n",
    "\n"
   ]
  },
  {
   "cell_type": "code",
   "execution_count": 50,
   "id": "326fca51",
   "metadata": {},
   "outputs": [
    {
     "name": "stdout",
     "output_type": "stream",
     "text": [
      "[3, 4, 5, 6, 7, 8]\n"
     ]
    }
   ],
   "source": [
    "mytuple = (6,5,7,4,8,3)\n",
    "orderedtup = sorted(mytuple)\n",
    "print(orderedtup)"
   ]
  },
  {
   "cell_type": "markdown",
   "id": "2b1d9be5",
   "metadata": {},
   "source": [
    "    Sort a tuple of strings in alphabetical order."
   ]
  },
  {
   "cell_type": "code",
   "execution_count": 53,
   "id": "5b0a511f",
   "metadata": {},
   "outputs": [
    {
     "name": "stdout",
     "output_type": "stream",
     "text": [
      "['a', 'b', 'c', 'd', 'e', 'f']\n"
     ]
    }
   ],
   "source": [
    "mytuple = ('f','e', 'd', 'c', 'b', 'a')\n",
    "orderedtup1 = sorted(mytuple)\n",
    "print(orderedtup1)"
   ]
  },
  {
   "cell_type": "markdown",
   "id": "0393ae63",
   "metadata": {},
   "source": [
    "Sort a tuple of tuples based on the second element of each inner tuple."
   ]
  },
  {
   "cell_type": "code",
   "execution_count": 58,
   "id": "5b0d33fd",
   "metadata": {},
   "outputs": [
    {
     "name": "stdout",
     "output_type": "stream",
     "text": [
      "[(3, 1), (1, 2), (2, 3), (1, 4), (1, 4, 5)]\n"
     ]
    }
   ],
   "source": [
    "mytuple6 = ((1,2),(3,1),(1,4),(2,3),(1,4,5))\n",
    "orderedtup2 = sorted(mytuple6, key=lambda x: x[1])\n",
    "print(orderedtup2)"
   ]
  },
  {
   "cell_type": "markdown",
   "id": "65b8f449",
   "metadata": {},
   "source": [
    "Compare two tuples to see if they are equal in both value and identity."
   ]
  },
  {
   "cell_type": "code",
   "execution_count": 67,
   "id": "10013d11",
   "metadata": {},
   "outputs": [
    {
     "name": "stdout",
     "output_type": "stream",
     "text": [
      "False\n",
      "False\n"
     ]
    }
   ],
   "source": [
    "mytuple7, mytuple8 = (1,2,3,4,5,6), (1,2,3,4,5,7)\n",
    "print(mytuple7 is mytuple8)\n",
    "print(mytuple7 == mytuple8)"
   ]
  },
  {
   "cell_type": "markdown",
   "id": "0810cc18",
   "metadata": {},
   "source": [
    "Create a shallow copy of a tuple and observe the effects of modifying one of the tuples.\n",
    "\n"
   ]
  },
  {
   "cell_type": "code",
   "execution_count": 78,
   "id": "426bacd6",
   "metadata": {},
   "outputs": [
    {
     "name": "stdout",
     "output_type": "stream",
     "text": [
      "mytuple9: ([1, 2, 3], [4, 5, 'a']) \n",
      "mytuple10: ([1, 2, 3], [4, 5, 'a'])\n"
     ]
    }
   ],
   "source": [
    "mytuple9 = ([1, 2, 3], [4, 5, 6])\n",
    "mytuple10 = mytuple9[:]\n",
    "\n",
    "mytuple10[1][2] = 'a'\n",
    "print('mytuple9:', mytuple9, '\\nmytuple10:', mytuple10)\n",
    "\n",
    "#Since Tuple is immutable, changes can not be made in it.  However, if a tuple contains mutable objects (like lists), changes to those mutable objects within the tuple are possible."
   ]
  },
  {
   "cell_type": "markdown",
   "id": "f14455c5",
   "metadata": {},
   "source": [
    "    Create a deep copy of a nested tuple and observe the effects of modifying one of the tuples.\n"
   ]
  },
  {
   "cell_type": "code",
   "execution_count": 81,
   "id": "4564c764",
   "metadata": {},
   "outputs": [
    {
     "name": "stdout",
     "output_type": "stream",
     "text": [
      "mytuple11: (1, [2, 3], 4) \n",
      "mytuple12: (1, [2, 'a'], 4)\n"
     ]
    }
   ],
   "source": [
    "import copy\n",
    "mytuple11 = (1, [2, 3], 4)\n",
    "mytuple12 = copy.deepcopy(mytuple11)\n",
    "mytuple12[1][1] = 'a'\n",
    "print('mytuple11:', mytuple11, '\\nmytuple12:', mytuple12)"
   ]
  },
  {
   "cell_type": "markdown",
   "id": "b01879a0",
   "metadata": {},
   "source": [
    "    Pickle a tuple and save it to a file.\n"
   ]
  },
  {
   "cell_type": "code",
   "execution_count": 86,
   "id": "55ddfbd4",
   "metadata": {},
   "outputs": [
    {
     "name": "stdout",
     "output_type": "stream",
     "text": [
      "Tuple pickled and saved to 'pickled_tuple.pkl'\n"
     ]
    }
   ],
   "source": [
    "import pickle\n",
    "\n",
    "# Tuple to pickle\n",
    "data_tuple = (1, 2, 3, 'hello', [4, 5, 6])\n",
    "\n",
    "# File to save the pickled data\n",
    "file_name = 'pickled_tuple.pkl'\n",
    "\n",
    "# Pickling the tuple and saving it to a file\n",
    "with open(file_name, 'wb') as file:\n",
    "    pickle.dump(data_tuple, file)\n",
    "\n",
    "print(f\"Tuple pickled and saved to '{file_name}'\")"
   ]
  },
  {
   "cell_type": "markdown",
   "id": "6874f46a",
   "metadata": {},
   "source": [
    "    Unpickle a tuple from a file and display its content."
   ]
  },
  {
   "cell_type": "code",
   "execution_count": 83,
   "id": "02f8549f",
   "metadata": {},
   "outputs": [
    {
     "name": "stdout",
     "output_type": "stream",
     "text": [
      "Unpickled tuple: (1, 2, 3, 'hello', [4, 5, 6])\n"
     ]
    }
   ],
   "source": [
    "import pickle\n",
    "\n",
    "# File containing the pickled tuple\n",
    "file_name = 'pickled_tuple.pkl'\n",
    "\n",
    "# Unpickling the tuple from the file\n",
    "with open(file_name, 'rb') as file:\n",
    "    unpickled_tuple = pickle.load(file)\n",
    "\n",
    "# Displaying the content of the unpickled tuple\n",
    "print(\"Unpickled tuple:\", unpickled_tuple)"
   ]
  }
 ],
 "metadata": {
  "kernelspec": {
   "display_name": "Python 3 (ipykernel)",
   "language": "python",
   "name": "python3"
  },
  "language_info": {
   "codemirror_mode": {
    "name": "ipython",
    "version": 3
   },
   "file_extension": ".py",
   "mimetype": "text/x-python",
   "name": "python",
   "nbconvert_exporter": "python",
   "pygments_lexer": "ipython3",
   "version": "3.11.5"
  }
 },
 "nbformat": 4,
 "nbformat_minor": 5
}
